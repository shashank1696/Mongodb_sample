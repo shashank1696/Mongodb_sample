{
 "cells": [
  {
   "cell_type": "code",
   "execution_count": 75,
   "metadata": {},
   "outputs": [],
   "source": [
    "from pymongo import MongoClient"
   ]
  },
  {
   "cell_type": "code",
   "execution_count": 179,
   "metadata": {},
   "outputs": [],
   "source": [
    "import pymongo"
   ]
  },
  {
   "cell_type": "code",
   "execution_count": 76,
   "metadata": {},
   "outputs": [],
   "source": [
    "client = MongoClient('mongodb://localhost:27017/')"
   ]
  },
  {
   "cell_type": "code",
   "execution_count": 77,
   "metadata": {},
   "outputs": [
    {
     "data": {
      "text/plain": [
       "['admin', 'config', 'demo', 'local', 'mylib', 'test']"
      ]
     },
     "execution_count": 77,
     "metadata": {},
     "output_type": "execute_result"
    }
   ],
   "source": [
    "client.list_database_names()"
   ]
  },
  {
   "cell_type": "code",
   "execution_count": 158,
   "metadata": {},
   "outputs": [],
   "source": [
    "db = client[\"demo\"]"
   ]
  },
  {
   "cell_type": "code",
   "execution_count": 159,
   "metadata": {},
   "outputs": [
    {
     "data": {
      "text/plain": [
       "['student']"
      ]
     },
     "execution_count": 159,
     "metadata": {},
     "output_type": "execute_result"
    }
   ],
   "source": [
    "db.list_collection_names()"
   ]
  },
  {
   "cell_type": "code",
   "execution_count": 160,
   "metadata": {},
   "outputs": [],
   "source": [
    "student = db[\"student\"]"
   ]
  },
  {
   "cell_type": "code",
   "execution_count": 161,
   "metadata": {},
   "outputs": [
    {
     "data": {
      "text/plain": [
       "0"
      ]
     },
     "execution_count": 161,
     "metadata": {},
     "output_type": "execute_result"
    }
   ],
   "source": [
    "student.count_documents({})"
   ]
  },
  {
   "cell_type": "code",
   "execution_count": 162,
   "metadata": {},
   "outputs": [
    {
     "data": {
      "text/plain": [
       "<pymongo.results.InsertOneResult at 0x172d2c25480>"
      ]
     },
     "execution_count": 162,
     "metadata": {},
     "output_type": "execute_result"
    }
   ],
   "source": [
    "#Insert the data\n",
    "student.insert_one({\"id\":1, \"name\":\"Ram\",\"Country\":\"IN\"})"
   ]
  },
  {
   "cell_type": "code",
   "execution_count": 163,
   "metadata": {},
   "outputs": [],
   "source": [
    "#Multiple record insertion\n",
    "studentList = [\n",
    "    {\"id\":2, \"name\":\"krish\",\"Country\":\"IN\"},\n",
    "    {\"id\":3, \"name\":\"karna\",\"Country\":\"IN\"},\n",
    "    {\"id\":4, \"name\":\"Ajay\",\"Country\":\"RUS\"},\n",
    "    {\"id\":5, \"name\":\"Sundar\",\"Country\":\"SA\"},\n",
    "    {\"id\":6, \"name\":\"John\",\"Country\":\"GE\"},\n",
    "    {\"id\":7, \"name\":\"Snow\",\"Country\":\"US\"},\n",
    "    {\"id\":8, \"name\":\"Rick\",\"Country\":\"US\"}\n",
    "]\n",
    "    "
   ]
  },
  {
   "cell_type": "code",
   "execution_count": 164,
   "metadata": {},
   "outputs": [
    {
     "data": {
      "text/plain": [
       "<pymongo.results.InsertManyResult at 0x172d3251680>"
      ]
     },
     "execution_count": 164,
     "metadata": {},
     "output_type": "execute_result"
    }
   ],
   "source": [
    "student.insert_many(studentList)"
   ]
  },
  {
   "cell_type": "code",
   "execution_count": 165,
   "metadata": {},
   "outputs": [
    {
     "data": {
      "text/plain": [
       "8"
      ]
     },
     "execution_count": 165,
     "metadata": {},
     "output_type": "execute_result"
    }
   ],
   "source": [
    "student.count_documents({})"
   ]
  },
  {
   "cell_type": "code",
   "execution_count": 166,
   "metadata": {},
   "outputs": [
    {
     "data": {
      "text/plain": [
       "<pymongo.cursor.Cursor at 0x172d35b4dc0>"
      ]
     },
     "execution_count": 166,
     "metadata": {},
     "output_type": "execute_result"
    }
   ],
   "source": [
    "student.find()"
   ]
  },
  {
   "cell_type": "code",
   "execution_count": 167,
   "metadata": {},
   "outputs": [
    {
     "name": "stdout",
     "output_type": "stream",
     "text": [
      "{'_id': ObjectId('60368e7ae5546deade5c2e91'), 'id': 1, 'name': 'Ram', 'Country': 'IN'}\n",
      "{'_id': ObjectId('60368e80e5546deade5c2e92'), 'id': 2, 'name': 'krish', 'Country': 'IN'}\n",
      "{'_id': ObjectId('60368e80e5546deade5c2e93'), 'id': 3, 'name': 'karna', 'Country': 'IN'}\n",
      "{'_id': ObjectId('60368e80e5546deade5c2e94'), 'id': 4, 'name': 'Ajay', 'Country': 'RUS'}\n",
      "{'_id': ObjectId('60368e80e5546deade5c2e95'), 'id': 5, 'name': 'Sundar', 'Country': 'SA'}\n",
      "{'_id': ObjectId('60368e80e5546deade5c2e96'), 'id': 6, 'name': 'John', 'Country': 'GE'}\n",
      "{'_id': ObjectId('60368e80e5546deade5c2e97'), 'id': 7, 'name': 'Snow', 'Country': 'US'}\n",
      "{'_id': ObjectId('60368e80e5546deade5c2e98'), 'id': 8, 'name': 'Rick', 'Country': 'US'}\n"
     ]
    }
   ],
   "source": [
    "#Display all the documents\n",
    "for student in student.find():\n",
    "    print(student)"
   ]
  },
  {
   "cell_type": "code",
   "execution_count": 151,
   "metadata": {},
   "outputs": [],
   "source": [
    "# Drop student from Mongo cmd \n",
    "#>use demo\n",
    "#>db.createcollection(\"students\")\n",
    "#>db.collection_name.drop()"
   ]
  },
  {
   "cell_type": "code",
   "execution_count": 170,
   "metadata": {},
   "outputs": [
    {
     "data": {
      "text/plain": [
       "<pymongo.cursor.Cursor at 0x172d32f7be0>"
      ]
     },
     "execution_count": 170,
     "metadata": {},
     "output_type": "execute_result"
    }
   ],
   "source": [
    "db.student.find()"
   ]
  },
  {
   "cell_type": "code",
   "execution_count": null,
   "metadata": {},
   "outputs": [],
   "source": [
    "student.update_man"
   ]
  }
 ],
 "metadata": {
  "kernelspec": {
   "display_name": "Python 3",
   "language": "python",
   "name": "python3"
  },
  "language_info": {
   "codemirror_mode": {
    "name": "ipython",
    "version": 3
   },
   "file_extension": ".py",
   "mimetype": "text/x-python",
   "name": "python",
   "nbconvert_exporter": "python",
   "pygments_lexer": "ipython3",
   "version": "3.8.5"
  }
 },
 "nbformat": 4,
 "nbformat_minor": 4
}
